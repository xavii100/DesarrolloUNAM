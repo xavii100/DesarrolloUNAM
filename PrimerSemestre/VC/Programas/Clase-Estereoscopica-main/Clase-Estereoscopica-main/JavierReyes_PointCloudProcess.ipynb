{
 "cells": [
  {
   "cell_type": "markdown",
   "id": "05d94eec-6df3-4fff-8d10-ea0eb0642909",
   "metadata": {},
   "source": [
    "## Clase Estereotópica / José Javier Reyes"
   ]
  },
  {
   "cell_type": "code",
   "execution_count": 51,
   "id": "57b439ef-44a0-4bc7-87ad-28737a4f0912",
   "metadata": {},
   "outputs": [],
   "source": [
    "import open3d as o3d\n",
    "import numpy as np\n",
    "import copy\n",
    "import time\n",
    "import os\n",
    "import sys\n",
    "import glob\n",
    "import yaml\n",
    "import pyvista as pv\n",
    "import pymeshfix as mf\n",
    "from dictionary_manager import get_serial_dictionary\n",
    "import scipy"
   ]
  },
  {
   "cell_type": "markdown",
   "id": "e75a2d57-2c23-4c77-a68b-2e4dfe397ba5",
   "metadata": {},
   "source": [
    "## Obtener malla original"
   ]
  },
  {
   "cell_type": "code",
   "execution_count": 33,
   "id": "c83d1701-4ece-453e-8e5b-d72daafe3ae8",
   "metadata": {},
   "outputs": [],
   "source": [
    "\n",
    "mallaOri = o3d.io.read_triangle_mesh('test_images/009/carlos-rivas_mesh_oriented_original.ply')\n",
    "mallaOri.compute_vertex_normals()\n",
    "\n",
    "#Muestreo de poisson\n",
    "Ori_pcd = mallaOri.sample_points_poisson_disk(30000)\n",
    "o3d.visualization.draw_geometries([Ori_pcd])"
   ]
  },
  {
   "cell_type": "markdown",
   "id": "fcc08dba-394f-44ce-af75-4f64abd05edc",
   "metadata": {},
   "source": [
    "## Obtener malla construida"
   ]
  },
  {
   "cell_type": "code",
   "execution_count": 35,
   "id": "20ec0b0b-afb7-49db-a709-a04f361ac4f6",
   "metadata": {},
   "outputs": [],
   "source": [
    "mallaReconstruccion = o3d.io.read_triangle_mesh('test_images/009/carlos-rivas_mesh_poisson.ply')\n",
    "mallaReconstruccion.compute_vertex_normals()\n",
    "\n",
    "#Muestreo de poisson\n",
    "Rec_pcd = mallaReconstruccion.sample_points_poisson_disk(30000)\n",
    "o3d.visualization.draw_geometries([Rec_pcd])"
   ]
  },
  {
   "cell_type": "code",
   "execution_count": 39,
   "id": "4a4bbc96-9d57-4f04-9f83-b28a060428d0",
   "metadata": {},
   "outputs": [
    {
     "data": {
      "text/plain": [
       "array([[1., 0., 0., 0.],\n",
       "       [0., 1., 0., 0.],\n",
       "       [0., 0., 1., 0.],\n",
       "       [0., 0., 0., 1.]])"
      ]
     },
     "execution_count": 39,
     "metadata": {},
     "output_type": "execute_result"
    }
   ],
   "source": [
    "ini_array = np.identity(4)\n",
    "ini_array"
   ]
  },
  {
   "cell_type": "markdown",
   "id": "222f962e-e2c8-41ad-806e-35ee5a160b0b",
   "metadata": {},
   "source": [
    "## Aplicacion del Algoritmo ICP"
   ]
  },
  {
   "cell_type": "code",
   "execution_count": 68,
   "id": "ed3fc13b-9c82-4e15-8551-82401afe910b",
   "metadata": {},
   "outputs": [
    {
     "data": {
      "text/plain": [
       "PointCloud with 30000 points."
      ]
     },
     "execution_count": 68,
     "metadata": {},
     "output_type": "execute_result"
    }
   ],
   "source": [
    "Res = o3d.pipelines.registration.registration_icp(Ori_pcd, Rec_pcd, 10, ini_array ,\n",
    "                                                  o3d.pipelines.registration.TransformationEstimationPointToPoint(),\n",
    "                                                  o3d.pipelines.registration.ICPConvergenceCriteria(max_iteration=2000)) \n",
    "Rec_pcd.transform(Res.transformation)"
   ]
  },
  {
   "cell_type": "code",
   "execution_count": 66,
   "id": "8d818136-260f-4271-a5ad-9858957bfc58",
   "metadata": {},
   "outputs": [
    {
     "name": "stdout",
     "output_type": "stream",
     "text": [
      "Hausdorff Distance:\n"
     ]
    },
    {
     "data": {
      "text/plain": [
       "41.091700246388974"
      ]
     },
     "execution_count": 66,
     "metadata": {},
     "output_type": "execute_result"
    }
   ],
   "source": [
    "print(\"Hausdorff Distance:\")\n",
    "scipy.spatial.distance.directed_hausdorff(np.asarray(Rec_pcd.points), np.asarray(Ori_pcd.points))[0]"
   ]
  },
  {
   "cell_type": "code",
   "execution_count": 67,
   "id": "4869e789-98d3-43c5-817e-a6983a022076",
   "metadata": {},
   "outputs": [
    {
     "name": "stdout",
     "output_type": "stream",
     "text": [
      "Dice Distance:\n"
     ]
    },
    {
     "data": {
      "text/plain": [
       "0.6961252673760052"
      ]
     },
     "execution_count": 67,
     "metadata": {},
     "output_type": "execute_result"
    }
   ],
   "source": [
    "# RecArray = np.asarray(Rec_pcd.points).flatten()\n",
    "# OriArray = np.asarray(Ori_pcd.points).flatten()\n",
    "print(\"Dice Distance:\")\n",
    "scipy.spatial.distance.dice(np.asarray(Rec_pcd.points).flatten(),np.asarray(Ori_pcd.points).flatten())"
   ]
  },
  {
   "cell_type": "code",
   "execution_count": null,
   "id": "4fafb527-0e55-4e96-8fa0-5259be940a0d",
   "metadata": {},
   "outputs": [],
   "source": []
  }
 ],
 "metadata": {
  "kernelspec": {
   "display_name": "Python 3 (ipykernel)",
   "language": "python",
   "name": "python3"
  },
  "language_info": {
   "codemirror_mode": {
    "name": "ipython",
    "version": 3
   },
   "file_extension": ".py",
   "mimetype": "text/x-python",
   "name": "python",
   "nbconvert_exporter": "python",
   "pygments_lexer": "ipython3",
   "version": "3.8.6"
  }
 },
 "nbformat": 4,
 "nbformat_minor": 5
}
